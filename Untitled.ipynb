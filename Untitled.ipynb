{
 "cells": [
  {
   "cell_type": "code",
   "execution_count": 3,
   "id": "cc5a229f-baf1-4f92-9221-75a3c8b6ce81",
   "metadata": {},
   "outputs": [
    {
     "name": "stdout",
     "output_type": "stream",
     "text": [
      "Word 文件已保存！\n"
     ]
    }
   ],
   "source": [
    "from docx import Document\n",
    "from docx.shared import Pt\n",
    "from docx.oxml import OxmlElement\n",
    "from docx.oxml.ns import qn\n",
    "\n",
    "# 創建 Word 文件\n",
    "doc = Document()\n",
    "\n",
    "# 添加標題\n",
    "doc.add_heading('Python 寫 Word 文件 - 表格與格式設置', level=1)\n",
    "\n",
    "# 添加段落\n",
    "doc.add_paragraph('以下是一個帶格線的表格，並設置了字體大小的例子：')\n",
    "\n",
    "# 插入表格\n",
    "rows, cols = 4, 3\n",
    "table = doc.add_table(rows=rows, cols=cols)\n",
    "\n",
    "# 設置表格樣式（內建樣式）\n",
    "table.style = 'Table Grid'\n",
    "\n",
    "# 添加表頭\n",
    "header_cells = table.rows[0].cells\n",
    "header_cells[0].text = '姓名'\n",
    "header_cells[1].text = '年齡'\n",
    "header_cells[2].text = '職業'\n",
    "\n",
    "# 添加數據\n",
    "data = [\n",
    "    ['張三', '30', '工程師'],\n",
    "    ['李四', '25', '設計師'],\n",
    "    ['王五', '28', '數據分析師'],\n",
    "]\n",
    "\n",
    "for i, row_data in enumerate(data, start=1):\n",
    "    row_cells = table.rows[i].cells\n",
    "    for j, cell_data in enumerate(row_data):\n",
    "        row_cells[j].text = cell_data\n",
    "\n",
    "# 設置字體大小和格式\n",
    "for row in table.rows:\n",
    "    for cell in row.cells:\n",
    "        for paragraph in cell.paragraphs:\n",
    "            for run in paragraph.runs:\n",
    "                run.font.size = Pt(12)  # 設置字體大小為12\n",
    "                run.font.name = 'Arial'  # 設置字體樣式為 Arial\n",
    "                \n",
    "                # 設置中文字體\n",
    "                r = run._element\n",
    "                r.rPr.rFonts.set(qn('w:eastAsia'), '微軟正黑體')\n",
    "\n",
    "# 添加格線（如果需要手動設置格線）\n",
    "def set_cell_border(cell, **kwargs):\n",
    "    \"\"\"\n",
    "    設置單元格邊框\n",
    "    kwargs 可以是：\n",
    "    top=\"size:4,space:0,color:000000\"\n",
    "    left=\"size:4,space:0,color:000000\"\n",
    "    \"\"\"\n",
    "    tc = cell._tc\n",
    "    tcPr = tc.get_or_add_tcPr()\n",
    "    for edge in ('top', 'left', 'bottom', 'right'):\n",
    "        if edge in kwargs:\n",
    "            tag = f'w:{edge}'\n",
    "            element = OxmlElement(tag)\n",
    "            for key, value in kwargs[edge].items():\n",
    "                element.set(qn(f'w:{key}'), str(value))\n",
    "            tcPr.append(element)\n",
    "\n",
    "# 保存 Word 文件\n",
    "doc.save('table_with_styles.docx')\n",
    "print(\"Word 文件已保存！\")\n"
   ]
  },
  {
   "cell_type": "code",
   "execution_count": null,
   "id": "0d7fac9d-06ff-432e-ac23-3bd8d7e8f631",
   "metadata": {},
   "outputs": [],
   "source": []
  }
 ],
 "metadata": {
  "kernelspec": {
   "display_name": "sale",
   "language": "python",
   "name": "sale"
  },
  "language_info": {
   "codemirror_mode": {
    "name": "ipython",
    "version": 3
   },
   "file_extension": ".py",
   "mimetype": "text/x-python",
   "name": "python",
   "nbconvert_exporter": "python",
   "pygments_lexer": "ipython3",
   "version": "3.9.21"
  }
 },
 "nbformat": 4,
 "nbformat_minor": 5
}
